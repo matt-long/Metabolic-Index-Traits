{
 "cells": [
  {
   "cell_type": "markdown",
   "id": "2ba9f661-64a3-48d9-87f4-5a133a631f9c",
   "metadata": {},
   "source": [
    "# Load data structures"
   ]
  },
  {
   "cell_type": "code",
   "execution_count": 1,
   "id": "992ee0ea-9014-4788-afb7-e30b40ce75d9",
   "metadata": {},
   "outputs": [
    {
     "name": "stdout",
     "output_type": "stream",
     "text": [
      "\n",
      "Par = \n",
      "\n",
      "  struct with fields:\n",
      "\n",
      "              P: [1x1 struct]\n",
      "              M: [1x1 struct]\n",
      "              B: [358x1 double]\n",
      "            fas: [358x1 double]\n",
      "         brange: [358x1 double]\n",
      "          bminM: [358x1 double]\n",
      "          bmaxM: [358x1 double]\n",
      "          bminP: [358x1 double]\n",
      "          bmaxP: [358x1 double]\n",
      "         trange: [358x1 double]\n",
      "          tminM: [358x1 double]\n",
      "          tmaxM: [358x1 double]\n",
      "          tmedM: [358x1 double]\n",
      "          taveM: [358x1 double]\n",
      "          tminP: [358x1 double]\n",
      "          tmaxP: [358x1 double]\n",
      "          tmedP: [358x1 double]\n",
      "          taveP: [358x1 double]\n",
      "         Phylum: {358x1 cell}\n",
      "    Species_unq: {358x1 cell}\n",
      "        RefOrig: {1x358 cell}\n",
      "        RefComp: {1x358 cell}\n",
      "      flag_LC50: [358x1 double]\n",
      "       flag_del: [358x1 logical]\n",
      "        flag_em: [358x1 logical]\n",
      "       flag_eps: [358x1 logical]\n",
      "        flag_eo: [358x1 logical]\n",
      "            Iem: [358x1 logical]\n",
      "            Ieo: [358x1 logical]\n",
      "            In2: [41x1 double]\n",
      "        dEdTbar: -0.0226\n",
      "\n",
      "\n",
      "ans = \n",
      "\n",
      "  struct with fields:\n",
      "\n",
      "    temp: [358x872 double]\n",
      "    mass: [358x872 double]\n",
      "     est: [358x3 double]\n",
      "     err: [358x3 double]\n",
      "    pval: [358x3 double]\n",
      "    tval: [358x3 double]\n",
      "      nt: [358x1 double]\n",
      "      nm: [358x1 double]\n",
      "      r2: [358x1 double]\n",
      "\n",
      "\n",
      "ans = \n",
      "\n",
      "  struct with fields:\n",
      "\n",
      "         temp: [358x872 double]\n",
      "         mass: [358x872 double]\n",
      "        pcrit: [358x872 double]\n",
      "          est: [358x3 double]\n",
      "          err: [358x3 double]\n",
      "         pval: [358x3 double]\n",
      "         tval: [358x3 double]\n",
      "           nt: [358x1 double]\n",
      "           nm: [358x1 double]\n",
      "           r2: [358x1 double]\n",
      "    param_EoT: [358x4 double]\n",
      "        AIC_1: [358x1 double]\n",
      "        AIC_2: [358x1 double]\n",
      "\n"
     ]
    }
   ],
   "source": [
    "load Par.mat\n",
    "Par\n",
    "Par.M\n",
    "Par.P"
   ]
  },
  {
   "cell_type": "code",
   "execution_count": 2,
   "id": "e8615c26-6c96-436d-b324-52e7473d6877",
   "metadata": {},
   "outputs": [
    {
     "name": "stdout",
     "output_type": "stream",
     "text": [
      "\n",
      "Pobis = \n",
      "\n",
      "  struct with fields:\n",
      "\n",
      "        Species_unq: {358x1 cell}\n",
      "       num_tot_obis: [1x358 double]\n",
      "       num_woa_cell: [1x358 double]\n",
      "        num_woa_unq: [1x358 double]\n",
      "    Nobs_fracbelow1: [358x1 double]\n",
      "        Phi_histWOA: [358x23 double]\n",
      "           phi_wmax: [358x1 double]\n",
      "          phi_wmaxM: [358x1 double]\n",
      "           phi_wmin: [358x1 double]\n",
      "          phi_wminM: [358x1 double]\n",
      "              Zhist: [358x23 double]\n",
      "              Ohist: [358x23 double]\n",
      "              Thist: [358x23 double]\n",
      "           T_atPatm: [358x23 double]\n",
      "         FratioT_4d: [358x1 double]\n",
      "         FratioO_4d: [358x1 double]\n",
      "        FratioT_ssp: [358x3 double]\n",
      "       FratioT_sspm: [358x3 double]\n",
      "        FratioO_ssp: [358x3 double]\n",
      "       FratioO_sspm: [358x3 double]\n",
      "          phic_hist: [358x2 double]\n",
      "           phic_f4d: [358x3 double]\n",
      "          phic_fssp: [358x3 double]\n",
      "         phic_fsspm: [358x3 double]\n",
      "           phi_crit: [358x1 double]\n",
      "\n"
     ]
    }
   ],
   "source": [
    "load Pobis.mat\n",
    "Pobis"
   ]
  },
  {
   "cell_type": "markdown",
   "id": "25c3a072-d1c5-46f0-bfa5-5bcd620c323f",
   "metadata": {},
   "source": [
    "Confirm correspondence in species list"
   ]
  },
  {
   "cell_type": "code",
   "execution_count": 3,
   "id": "ab191f08-338f-4c6f-8191-e1f443ca6614",
   "metadata": {},
   "outputs": [],
   "source": [
    "N = length(Par.Species_unq);\n",
    "for i = 1:N\n",
    "    if Pobis.Species_unq{i} ~= Par.Species_unq{i}\n",
    "      fprintf('mismatch row %d\\n', i)\n",
    "    end\n",
    "end"
   ]
  },
  {
   "cell_type": "markdown",
   "id": "26d4356d-af8b-44ff-83ee-333db7e92524",
   "metadata": {},
   "source": [
    "## Extract parameters\n",
    "\n",
    "Metabolic parameters"
   ]
  },
  {
   "cell_type": "code",
   "execution_count": 4,
   "id": "55d6b0f6-f662-4955-a72c-92a38ae0ec29",
   "metadata": {},
   "outputs": [
    {
     "name": "stdout",
     "output_type": "stream",
     "text": [
      "Number of taxa: 61"
     ]
    }
   ],
   "source": [
    "Ieo = isfinite(Par.P.est(:, 3)) & isfinite(Par.P.est(:, 1)) & isfinite(Pobis.phi_crit(:, 1));\n",
    "fprintf('Number of taxa: %d', sum(Ieo))"
   ]
  },
  {
   "cell_type": "code",
   "execution_count": 5,
   "id": "968c8c25-f8bd-4a74-9ca0-6c8b0c75e4da",
   "metadata": {},
   "outputs": [],
   "source": [
    "del_norm = 0.25; % intra-specific B normalization (0 or 0.25)\n",
    "alphaD = Par.M.est(Ieo, 1) .* Par.B(Ieo) .^ del_norm; \n",
    "alphaD_altB = Par.M.est(Ieo, 1) .* Par.B(Ieo) .^ 0.25; \n",
    "del = Par.M.est(Ieo, 2); \n",
    "Emet = Par.M.est(Ieo, 3); \n",
    "alphaD_err = Par.M.err(Ieo, 1); \n",
    "Emet_err = Par.M.err(Ieo, 3); "
   ]
  },
  {
   "cell_type": "markdown",
   "id": "3dec536f-ab96-4859-b22a-08e766ea335b",
   "metadata": {},
   "source": [
    "Metabolic index parameters"
   ]
  },
  {
   "cell_type": "code",
   "execution_count": 9,
   "id": "ed7b91af-b766-4a81-bfbf-bdcd769701bd",
   "metadata": {},
   "outputs": [],
   "source": [
    "Species_unq = Par.Species_unq(Ieo);\n",
    "Phylum = Par.Phylum(Ieo);\n",
    "\n",
    "Ao = Par.P.est(Ieo, 1); \n",
    "    \n",
    "eps = Par.P.est(Ieo, 2); \n",
    "Eo = Par.P.est(Ieo, 3); \n",
    "Ao_err = Par.P.err(Ieo, 1); \n",
    "Eo_err = Par.P.err(Ieo, 3); \n",
    "\n",
    "Phi_crit = Pobis.phi_crit(Ieo, 1);\n",
    "\n",
    "Vh = 1 ./ Ao;\n",
    "Ac = Ao ./ Phi_crit; \n",
    "\n",
    "Esup = Emet - Eo;\n",
    "alphaS = alphaD .* Ao;\n",
    "alphaSbar = nanmean(alphaS);\n",
    "tmp = ((alphaD_err ./ alphaD) .^2 + (Ao_err ./ Ao) .^2) .^ 0.5;\n",
    "alphaS_err = tmp .* alphaS;"
   ]
  },
  {
   "cell_type": "markdown",
   "id": "ff2a1631-09ff-40a7-9008-d1388143e5e5",
   "metadata": {},
   "source": [
    "## Write JSON file\n",
    "\n",
    "Write a json file that includes data and attributes for each field.\n",
    "\n",
    "The format of this file looks like this:\n",
    "```python\n",
    "DataFrame = {\n",
    "    field: {data: [...], \n",
    "            attrs: {\"long_name\": \"Description...\", \n",
    "                    \"units\": \"Units string\"\n",
    "                   }\n",
    "}\n",
    "```"
   ]
  },
  {
   "cell_type": "code",
   "execution_count": 11,
   "id": "b776ab67-af25-4396-badc-a0b5c17dfd24",
   "metadata": {},
   "outputs": [],
   "source": [
    "DataFrame = struct();\n",
    "\n",
    "DataFrame.Species.data = Species_unq;\n",
    "DataFrame.Species.data_type = 'string';\n",
    "DataFrame.Species.attrs.long_name = 'Species';\n",
    "DataFrame.Species.attrs.units = '';\n",
    "\n",
    "DataFrame.Phylum.data = Phylum;\n",
    "DataFrame.Phylum.data_type = 'string';\n",
    "DataFrame.Phylum.attrs.long_name = 'Phylum';\n",
    "DataFrame.Phylum.attrs.units = '';\n",
    "\n",
    "DataFrame.alphaD_log10.data = log10(alphaD);\n",
    "DataFrame.alphaD_log10.data_type = 'float';\n",
    "DataFrame.alphaD_log10.attrs.long_name = 'log10(alpha_D)';\n",
    "\n",
    "DataFrame.Emet.data = Emet;\n",
    "DataFrame.Emet.data_type = 'float';\n",
    "DataFrame.Emet.attrs.long_name = 'Temperature sensitivity of metabolism';\n",
    "DataFrame.Emet.attrs.units = 'eV';\n",
    "\n",
    "DataFrame.Eo.data = Eo;\n",
    "DataFrame.Eo.data_type = 'float';\n",
    "DataFrame.Eo.attrs.long_name = 'Temperature sensitivity';\n",
    "DataFrame.Eo.attrs.units = 'eV';\n",
    "\n",
    "DataFrame.Ao.data = Ao;\n",
    "DataFrame.Ao.data_type = 'float';\n",
    "DataFrame.Ao.attrs.long_name = 'Hypoxic tolerance';\n",
    "DataFrame.Ao.attrs.units = '1/atm';\n",
    "\n",
    "DataFrame.Ac.data = Ac;\n",
    "DataFrame.Ac.data_type = 'float';\n",
    "DataFrame.Ac.attrs.long_name = 'Hypoxic tolerance (normalized by $\\\\Phi_{crit}$)';\n",
    "DataFrame.Ac.attrs.units = '1/atm';\n",
    "\n",
    "DataFrame.Phi_crit.data = Phi_crit;\n",
    "DataFrame.Phi_crit.data_type = 'float';\n",
    "DataFrame.Phi_crit.attrs.long_name = '$\\\\Phi_{crit}$';\n",
    "DataFrame.Phi_crit.attrs.units = '';\n",
    "\n",
    "\n",
    "data_fields = fields(DataFrame);\n",
    "sizes = [];\n",
    "for i = 1:length(data_fields)\n",
    "  sizes = [sizes; length(DataFrame.(data_fields{i}).data)];\n",
    "end\n",
    "if all(sizes ~= sizes(1))\n",
    "  fprintf('DataFrameConstructor: size mismatch:\\n')\n",
    "  for i = 1:length(data_fields)\n",
    "      fprintf('\\t%s: %d\\n', data_fields{i}, sizes(i))\n",
    "  end\n",
    "  error('')  \n",
    "end\n",
    "\n",
    "\n",
    "fid = fopen('MI-traits-Deutsch-etal-2020.json', 'w');\n",
    "fprintf(fid, jsonencode(DataFrame, 'ConvertInfAndNaN', true));\n",
    "fclose(fid);"
   ]
  },
  {
   "cell_type": "code",
   "execution_count": null,
   "id": "f766e1fa-a654-45fe-bd1f-694796316cba",
   "metadata": {},
   "outputs": [],
   "source": []
  }
 ],
 "metadata": {
  "kernelspec": {
   "display_name": "Matlab R2019a",
   "language": "matlab",
   "name": "matlab"
  },
  "language_info": {
   "codemirror_mode": "octave",
   "file_extension": ".m",
   "help_links": [
    {
     "text": "MetaKernel Magics",
     "url": "https://metakernel.readthedocs.io/en/latest/source/README.html"
    }
   ],
   "mimetype": "text/x-octave",
   "name": "matlab",
   "version": "0.16.4"
  }
 },
 "nbformat": 4,
 "nbformat_minor": 5
}
